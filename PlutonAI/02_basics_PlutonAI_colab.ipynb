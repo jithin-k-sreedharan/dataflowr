{
  "nbformat": 4,
  "nbformat_minor": 0,
  "metadata": {
    "accelerator": "GPU",
    "colab": {
      "name": "02_basics_PlutonAI.ipynb",
      "provenance": [],
      "include_colab_link": true
    },
    "kernelspec": {
      "display_name": "Python 3",
      "language": "python",
      "name": "python3"
    },
    "language_info": {
      "codemirror_mode": {
        "name": "ipython",
        "version": 3
      },
      "file_extension": ".py",
      "mimetype": "text/x-python",
      "name": "python",
      "nbconvert_exporter": "python",
      "pygments_lexer": "ipython3",
      "version": "3.6.9"
    },
    "widgets": {
      "application/vnd.jupyter.widget-state+json": {
        "54a370ed61ed4d8c872d26eee4f98ed9": {
          "model_module": "@jupyter-widgets/controls",
          "model_name": "HBoxModel",
          "state": {
            "_view_name": "HBoxView",
            "_dom_classes": [],
            "_model_name": "HBoxModel",
            "_view_module": "@jupyter-widgets/controls",
            "_model_module_version": "1.5.0",
            "_view_count": null,
            "_view_module_version": "1.5.0",
            "box_style": "",
            "layout": "IPY_MODEL_5e41dd6fa1e143888af110f37430c5fd",
            "_model_module": "@jupyter-widgets/controls",
            "children": [
              "IPY_MODEL_99b72ea435594952a744970fbdcf537e",
              "IPY_MODEL_2b8a5b17f0cc49cdab5a9ec3f8f3ed95"
            ]
          }
        },
        "5e41dd6fa1e143888af110f37430c5fd": {
          "model_module": "@jupyter-widgets/base",
          "model_name": "LayoutModel",
          "state": {
            "_view_name": "LayoutView",
            "grid_template_rows": null,
            "right": null,
            "justify_content": null,
            "_view_module": "@jupyter-widgets/base",
            "overflow": null,
            "_model_module_version": "1.2.0",
            "_view_count": null,
            "flex_flow": null,
            "width": null,
            "min_width": null,
            "border": null,
            "align_items": null,
            "bottom": null,
            "_model_module": "@jupyter-widgets/base",
            "top": null,
            "grid_column": null,
            "overflow_y": null,
            "overflow_x": null,
            "grid_auto_flow": null,
            "grid_area": null,
            "grid_template_columns": null,
            "flex": null,
            "_model_name": "LayoutModel",
            "justify_items": null,
            "grid_row": null,
            "max_height": null,
            "align_content": null,
            "visibility": null,
            "align_self": null,
            "height": null,
            "min_height": null,
            "padding": null,
            "grid_auto_rows": null,
            "grid_gap": null,
            "max_width": null,
            "order": null,
            "_view_module_version": "1.2.0",
            "grid_template_areas": null,
            "object_position": null,
            "object_fit": null,
            "grid_auto_columns": null,
            "margin": null,
            "display": null,
            "left": null
          }
        },
        "99b72ea435594952a744970fbdcf537e": {
          "model_module": "@jupyter-widgets/controls",
          "model_name": "FloatProgressModel",
          "state": {
            "_view_name": "ProgressView",
            "style": "IPY_MODEL_6b193a2df08949acabc49df165039d6d",
            "_dom_classes": [],
            "description": "",
            "_model_name": "FloatProgressModel",
            "bar_style": "info",
            "max": 1,
            "_view_module": "@jupyter-widgets/controls",
            "_model_module_version": "1.5.0",
            "value": 1,
            "_view_count": null,
            "_view_module_version": "1.5.0",
            "orientation": "horizontal",
            "min": 0,
            "description_tooltip": null,
            "_model_module": "@jupyter-widgets/controls",
            "layout": "IPY_MODEL_8b3c081a39904cf2b984fdb680f14549"
          }
        },
        "2b8a5b17f0cc49cdab5a9ec3f8f3ed95": {
          "model_module": "@jupyter-widgets/controls",
          "model_name": "HTMLModel",
          "state": {
            "_view_name": "HTMLView",
            "style": "IPY_MODEL_12f014f0b50644b0b89de32ac8936009",
            "_dom_classes": [],
            "description": "",
            "_model_name": "HTMLModel",
            "placeholder": "​",
            "_view_module": "@jupyter-widgets/controls",
            "_model_module_version": "1.5.0",
            "value": " 170500096/? [00:30&lt;00:00, 17262001.91it/s]",
            "_view_count": null,
            "_view_module_version": "1.5.0",
            "description_tooltip": null,
            "_model_module": "@jupyter-widgets/controls",
            "layout": "IPY_MODEL_7963d192705f459982ab3c8ec0baf8e2"
          }
        },
        "6b193a2df08949acabc49df165039d6d": {
          "model_module": "@jupyter-widgets/controls",
          "model_name": "ProgressStyleModel",
          "state": {
            "_view_name": "StyleView",
            "_model_name": "ProgressStyleModel",
            "description_width": "initial",
            "_view_module": "@jupyter-widgets/base",
            "_model_module_version": "1.5.0",
            "_view_count": null,
            "_view_module_version": "1.2.0",
            "bar_color": null,
            "_model_module": "@jupyter-widgets/controls"
          }
        },
        "8b3c081a39904cf2b984fdb680f14549": {
          "model_module": "@jupyter-widgets/base",
          "model_name": "LayoutModel",
          "state": {
            "_view_name": "LayoutView",
            "grid_template_rows": null,
            "right": null,
            "justify_content": null,
            "_view_module": "@jupyter-widgets/base",
            "overflow": null,
            "_model_module_version": "1.2.0",
            "_view_count": null,
            "flex_flow": null,
            "width": null,
            "min_width": null,
            "border": null,
            "align_items": null,
            "bottom": null,
            "_model_module": "@jupyter-widgets/base",
            "top": null,
            "grid_column": null,
            "overflow_y": null,
            "overflow_x": null,
            "grid_auto_flow": null,
            "grid_area": null,
            "grid_template_columns": null,
            "flex": null,
            "_model_name": "LayoutModel",
            "justify_items": null,
            "grid_row": null,
            "max_height": null,
            "align_content": null,
            "visibility": null,
            "align_self": null,
            "height": null,
            "min_height": null,
            "padding": null,
            "grid_auto_rows": null,
            "grid_gap": null,
            "max_width": null,
            "order": null,
            "_view_module_version": "1.2.0",
            "grid_template_areas": null,
            "object_position": null,
            "object_fit": null,
            "grid_auto_columns": null,
            "margin": null,
            "display": null,
            "left": null
          }
        },
        "12f014f0b50644b0b89de32ac8936009": {
          "model_module": "@jupyter-widgets/controls",
          "model_name": "DescriptionStyleModel",
          "state": {
            "_view_name": "StyleView",
            "_model_name": "DescriptionStyleModel",
            "description_width": "",
            "_view_module": "@jupyter-widgets/base",
            "_model_module_version": "1.5.0",
            "_view_count": null,
            "_view_module_version": "1.2.0",
            "_model_module": "@jupyter-widgets/controls"
          }
        },
        "7963d192705f459982ab3c8ec0baf8e2": {
          "model_module": "@jupyter-widgets/base",
          "model_name": "LayoutModel",
          "state": {
            "_view_name": "LayoutView",
            "grid_template_rows": null,
            "right": null,
            "justify_content": null,
            "_view_module": "@jupyter-widgets/base",
            "overflow": null,
            "_model_module_version": "1.2.0",
            "_view_count": null,
            "flex_flow": null,
            "width": null,
            "min_width": null,
            "border": null,
            "align_items": null,
            "bottom": null,
            "_model_module": "@jupyter-widgets/base",
            "top": null,
            "grid_column": null,
            "overflow_y": null,
            "overflow_x": null,
            "grid_auto_flow": null,
            "grid_area": null,
            "grid_template_columns": null,
            "flex": null,
            "_model_name": "LayoutModel",
            "justify_items": null,
            "grid_row": null,
            "max_height": null,
            "align_content": null,
            "visibility": null,
            "align_self": null,
            "height": null,
            "min_height": null,
            "padding": null,
            "grid_auto_rows": null,
            "grid_gap": null,
            "max_width": null,
            "order": null,
            "_view_module_version": "1.2.0",
            "grid_template_areas": null,
            "object_position": null,
            "object_fit": null,
            "grid_auto_columns": null,
            "margin": null,
            "display": null,
            "left": null
          }
        }
      }
    }
  },
  "cells": [
    {
      "cell_type": "markdown",
      "metadata": {
        "id": "view-in-github",
        "colab_type": "text"
      },
      "source": [
        "<a href=\"https://colab.research.google.com/github/jithin-k-sreedharan/dataflowr/blob/master/PlutonAI/02_basics_PlutonAI_colab.ipynb\" target=\"_parent\"><img src=\"https://colab.research.google.com/assets/colab-badge.svg\" alt=\"Open In Colab\"/></a>"
      ]
    },
    {
      "cell_type": "markdown",
      "metadata": {
        "colab_type": "text",
        "id": "YmJE2a4N8We0"
      },
      "source": [
        "# Lesson 2: PyTorch tensors and automatic differentiation"
      ]
    },
    {
      "cell_type": "code",
      "metadata": {
        "colab_type": "code",
        "id": "zOgNQwiv8We1",
        "colab": {}
      },
      "source": [
        "import matplotlib.pyplot as plt\n",
        "%matplotlib inline\n",
        "import torch\n",
        "import numpy as np"
      ],
      "execution_count": 1,
      "outputs": []
    },
    {
      "cell_type": "code",
      "metadata": {
        "colab_type": "code",
        "id": "smvq6dbY8We4",
        "colab": {
          "base_uri": "https://localhost:8080/",
          "height": 35
        },
        "outputId": "8d9a5a60-9f94-41e4-b5cc-73f524217ea8"
      },
      "source": [
        "torch.__version__"
      ],
      "execution_count": 2,
      "outputs": [
        {
          "output_type": "execute_result",
          "data": {
            "application/vnd.google.colaboratory.intrinsic": {
              "type": "string"
            },
            "text/plain": [
              "'1.5.1+cu101'"
            ]
          },
          "metadata": {
            "tags": []
          },
          "execution_count": 2
        }
      ]
    },
    {
      "cell_type": "markdown",
      "metadata": {
        "id": "1OZ2RmHbn4n5",
        "colab_type": "text"
      },
      "source": [
        "Tensor documentation: https://pytorch.org/docs/stable/tensors.html"
      ]
    },
    {
      "cell_type": "markdown",
      "metadata": {
        "colab_type": "text",
        "id": "vURcLof_8We8"
      },
      "source": [
        "Tensors are used to encode the signal to process, but also the internal states and parameters of models.\n",
        "\n",
        "**Manipulating data through this constrained structure allows to use CPUs and GPUs at peak performance.**\n",
        "\n",
        "Construct a 3x5 matrix, uninitialized:"
      ]
    },
    {
      "cell_type": "code",
      "metadata": {
        "colab_type": "code",
        "id": "c9tmMiNo8We-",
        "colab": {
          "base_uri": "https://localhost:8080/",
          "height": 85
        },
        "outputId": "f6f74394-038e-42bc-d035-43f28b25f4b9"
      },
      "source": [
        "x = torch.empty(3,5)\n",
        "print(x.dtype)\n",
        "print(x)"
      ],
      "execution_count": 3,
      "outputs": [
        {
          "output_type": "stream",
          "text": [
            "torch.float32\n",
            "tensor([[8.8474e-36, 0.0000e+00, 3.3631e-44, 0.0000e+00,        nan],\n",
            "        [0.0000e+00, 1.1578e+27, 1.1362e+30, 7.1547e+22, 4.5828e+30],\n",
            "        [1.2121e+04, 7.1846e+22, 9.2198e-39, 7.0374e+22, 0.0000e+00]])\n"
          ],
          "name": "stdout"
        }
      ]
    },
    {
      "cell_type": "markdown",
      "metadata": {
        "colab_type": "text",
        "id": "tlonXyHu8WfB"
      },
      "source": [
        "If you got an error this [stackoverflow link](https://stackoverflow.com/questions/50617917/overflow-when-unpacking-long-pytorch) might be useful..."
      ]
    },
    {
      "cell_type": "code",
      "metadata": {
        "colab_type": "code",
        "id": "xlY-hwAY8WfB",
        "colab": {
          "base_uri": "https://localhost:8080/",
          "height": 68
        },
        "outputId": "12530326-fe8b-4ed4-a7c6-6c0fa7cb21a7"
      },
      "source": [
        "x = torch.randn(3,5)\n",
        "print(x)"
      ],
      "execution_count": 4,
      "outputs": [
        {
          "output_type": "stream",
          "text": [
            "tensor([[ 0.0432,  0.3728,  0.7354,  0.0825,  1.7872],\n",
            "        [ 0.4063,  0.0654, -0.2812, -0.0637,  2.0922],\n",
            "        [ 1.0165, -0.7459, -0.1666,  0.7145,  1.2538]])\n"
          ],
          "name": "stdout"
        }
      ]
    },
    {
      "cell_type": "code",
      "metadata": {
        "colab_type": "code",
        "id": "7g19ZvvL8WfD",
        "colab": {
          "base_uri": "https://localhost:8080/",
          "height": 34
        },
        "outputId": "695f74c8-10d1-44bf-e0bf-964c7b4ea3a8"
      },
      "source": [
        "print(x.size())"
      ],
      "execution_count": 5,
      "outputs": [
        {
          "output_type": "stream",
          "text": [
            "torch.Size([3, 5])\n"
          ],
          "name": "stdout"
        }
      ]
    },
    {
      "cell_type": "markdown",
      "metadata": {
        "colab_type": "text",
        "id": "ZPjoP9Ec8WfG"
      },
      "source": [
        "torch.Size is in fact a [tuple](https://docs.python.org/3/tutorial/datastructures.html#tuples-and-sequences), so it supports the same operations."
      ]
    },
    {
      "cell_type": "code",
      "metadata": {
        "colab_type": "code",
        "id": "rgVPlppm8WfG",
        "colab": {
          "base_uri": "https://localhost:8080/",
          "height": 34
        },
        "outputId": "d66b3e0a-a245-4aef-bc49-8e9754e3f2b6"
      },
      "source": [
        "x.size()[1]"
      ],
      "execution_count": 6,
      "outputs": [
        {
          "output_type": "execute_result",
          "data": {
            "text/plain": [
              "5"
            ]
          },
          "metadata": {
            "tags": []
          },
          "execution_count": 6
        }
      ]
    },
    {
      "cell_type": "code",
      "metadata": {
        "colab_type": "code",
        "id": "CY87gW168WfI",
        "colab": {
          "base_uri": "https://localhost:8080/",
          "height": 34
        },
        "outputId": "5c0a3c9c-951b-49a3-a422-8d394096715b"
      },
      "source": [
        "x.size() == (3,5)"
      ],
      "execution_count": 7,
      "outputs": [
        {
          "output_type": "execute_result",
          "data": {
            "text/plain": [
              "True"
            ]
          },
          "metadata": {
            "tags": []
          },
          "execution_count": 7
        }
      ]
    },
    {
      "cell_type": "markdown",
      "metadata": {
        "colab_type": "text",
        "id": "jeUshrFT8WfK"
      },
      "source": [
        "### Bridge to numpy"
      ]
    },
    {
      "cell_type": "code",
      "metadata": {
        "colab_type": "code",
        "id": "C1cDkoT98WfM",
        "colab": {
          "base_uri": "https://localhost:8080/",
          "height": 68
        },
        "outputId": "95b828c9-ecf5-4b2b-86f7-898cb67bf580"
      },
      "source": [
        "y = x.numpy()\n",
        "print(y)"
      ],
      "execution_count": 8,
      "outputs": [
        {
          "output_type": "stream",
          "text": [
            "[[ 0.0431743   0.3727643   0.73536456  0.0825034   1.7872052 ]\n",
            " [ 0.40633428  0.0653878  -0.28120664 -0.06373765  2.0921786 ]\n",
            " [ 1.016481   -0.74586785 -0.1666218   0.71451706  1.253812  ]]\n"
          ],
          "name": "stdout"
        }
      ]
    },
    {
      "cell_type": "code",
      "metadata": {
        "colab_type": "code",
        "id": "2DdMiBVY8WfO",
        "colab": {
          "base_uri": "https://localhost:8080/",
          "height": 51
        },
        "outputId": "7fab76f8-0a75-42c0-bc36-3df0b20169d7"
      },
      "source": [
        "a = np.ones(5)\n",
        "b = torch.from_numpy(a)\n",
        "print(a.dtype)\n",
        "print(b)"
      ],
      "execution_count": 9,
      "outputs": [
        {
          "output_type": "stream",
          "text": [
            "float64\n",
            "tensor([1., 1., 1., 1., 1.], dtype=torch.float64)\n"
          ],
          "name": "stdout"
        }
      ]
    },
    {
      "cell_type": "code",
      "metadata": {
        "id": "cg-kloHeB_hR",
        "colab_type": "code",
        "colab": {
          "base_uri": "https://localhost:8080/",
          "height": 51
        },
        "outputId": "5adee19c-0685-4b51-9a9f-a74318cf225b"
      },
      "source": [
        "c = b.long()\n",
        "print(c.dtype, c)\n",
        "print(b.dtype, b)"
      ],
      "execution_count": 10,
      "outputs": [
        {
          "output_type": "stream",
          "text": [
            "torch.int64 tensor([1, 1, 1, 1, 1])\n",
            "torch.float64 tensor([1., 1., 1., 1., 1.], dtype=torch.float64)\n"
          ],
          "name": "stdout"
        }
      ]
    },
    {
      "cell_type": "code",
      "metadata": {
        "colab_type": "code",
        "id": "lZLbt9C38WfQ",
        "colab": {
          "base_uri": "https://localhost:8080/",
          "height": 68
        },
        "outputId": "4c3d2fb8-4b70-4250-b573-cbc04171380a"
      },
      "source": [
        "xr = torch.randn(3, 5)\n",
        "print(xr.dtype, xr)"
      ],
      "execution_count": 11,
      "outputs": [
        {
          "output_type": "stream",
          "text": [
            "torch.float32 tensor([[ 0.7502,  0.4293, -0.4130,  0.0260, -0.7699],\n",
            "        [ 1.0670, -0.0406, -0.2798, -0.1696,  1.3175],\n",
            "        [ 1.2877,  0.2379,  0.9009, -0.5660, -0.2142]])\n"
          ],
          "name": "stdout"
        }
      ]
    },
    {
      "cell_type": "code",
      "metadata": {
        "colab_type": "code",
        "id": "T5nYMEcM8WfS",
        "colab": {
          "base_uri": "https://localhost:8080/",
          "height": 68
        },
        "outputId": "91d19c90-da6f-4970-decc-a63ea4e135ac"
      },
      "source": [
        "resb = xr + b\n",
        "resb"
      ],
      "execution_count": 12,
      "outputs": [
        {
          "output_type": "execute_result",
          "data": {
            "text/plain": [
              "tensor([[1.7502, 1.4293, 0.5870, 1.0260, 0.2301],\n",
              "        [2.0670, 0.9594, 0.7202, 0.8304, 2.3175],\n",
              "        [2.2877, 1.2379, 1.9009, 0.4340, 0.7858]], dtype=torch.float64)"
            ]
          },
          "metadata": {
            "tags": []
          },
          "execution_count": 12
        }
      ]
    },
    {
      "cell_type": "code",
      "metadata": {
        "id": "QGTfk0M9B_hd",
        "colab_type": "code",
        "colab": {
          "base_uri": "https://localhost:8080/",
          "height": 68
        },
        "outputId": "c47e7588-7496-43bb-941d-00b7e9ffa782"
      },
      "source": [
        "resc = xr + c\n",
        "resc"
      ],
      "execution_count": 13,
      "outputs": [
        {
          "output_type": "execute_result",
          "data": {
            "text/plain": [
              "tensor([[1.7502, 1.4293, 0.5870, 1.0260, 0.2301],\n",
              "        [2.0670, 0.9594, 0.7202, 0.8304, 2.3175],\n",
              "        [2.2877, 1.2379, 1.9009, 0.4340, 0.7858]])"
            ]
          },
          "metadata": {
            "tags": []
          },
          "execution_count": 13
        }
      ]
    },
    {
      "cell_type": "markdown",
      "metadata": {
        "id": "YuZ0-dswB_hf",
        "colab_type": "text"
      },
      "source": [
        "Be careful with types!"
      ]
    },
    {
      "cell_type": "code",
      "metadata": {
        "id": "4Jdin_2zB_hg",
        "colab_type": "code",
        "colab": {
          "base_uri": "https://localhost:8080/",
          "height": 68
        },
        "outputId": "05469976-3aa2-4532-dc85-8168be125df7"
      },
      "source": [
        "resb == resc"
      ],
      "execution_count": 14,
      "outputs": [
        {
          "output_type": "execute_result",
          "data": {
            "text/plain": [
              "tensor([[False, False,  True, False,  True],\n",
              "        [ True, False, False, False, False],\n",
              "        [ True,  True, False,  True, False]])"
            ]
          },
          "metadata": {
            "tags": []
          },
          "execution_count": 14
        }
      ]
    },
    {
      "cell_type": "code",
      "metadata": {
        "id": "Rn7Xp9dpB_hk",
        "colab_type": "code",
        "colab": {}
      },
      "source": [
        "torch.set_printoptions(precision=10)"
      ],
      "execution_count": 15,
      "outputs": []
    },
    {
      "cell_type": "code",
      "metadata": {
        "id": "ipyVIQiKB_hn",
        "colab_type": "code",
        "colab": {
          "base_uri": "https://localhost:8080/",
          "height": 34
        },
        "outputId": "2b3b87c7-e326-4c10-ed90-4f54ae311c2f"
      },
      "source": [
        "resb[0,1]"
      ],
      "execution_count": 16,
      "outputs": [
        {
          "output_type": "execute_result",
          "data": {
            "text/plain": [
              "tensor(1.4292806089, dtype=torch.float64)"
            ]
          },
          "metadata": {
            "tags": []
          },
          "execution_count": 16
        }
      ]
    },
    {
      "cell_type": "code",
      "metadata": {
        "id": "dEdzZjHhB_hp",
        "colab_type": "code",
        "colab": {
          "base_uri": "https://localhost:8080/",
          "height": 34
        },
        "outputId": "2ab3c29e-16ab-4b6e-d88d-02b5533afe76"
      },
      "source": [
        "resc[0,1]"
      ],
      "execution_count": 17,
      "outputs": [
        {
          "output_type": "execute_result",
          "data": {
            "text/plain": [
              "tensor(1.4292806387)"
            ]
          },
          "metadata": {
            "tags": []
          },
          "execution_count": 17
        }
      ]
    },
    {
      "cell_type": "code",
      "metadata": {
        "id": "nkYkbUJNB_hr",
        "colab_type": "code",
        "colab": {
          "base_uri": "https://localhost:8080/",
          "height": 34
        },
        "outputId": "e0c76bd7-f582-4321-ce3e-395337e9cc65"
      },
      "source": [
        "resc[0,1].dtype"
      ],
      "execution_count": 18,
      "outputs": [
        {
          "output_type": "execute_result",
          "data": {
            "text/plain": [
              "torch.float32"
            ]
          },
          "metadata": {
            "tags": []
          },
          "execution_count": 18
        }
      ]
    },
    {
      "cell_type": "code",
      "metadata": {
        "id": "XCBKNjLdB_hu",
        "colab_type": "code",
        "colab": {
          "base_uri": "https://localhost:8080/",
          "height": 34
        },
        "outputId": "82eda365-4fd7-44b2-c457-3f9221dfcadc"
      },
      "source": [
        "xr[0,1]"
      ],
      "execution_count": 19,
      "outputs": [
        {
          "output_type": "execute_result",
          "data": {
            "text/plain": [
              "tensor(0.4292806089)"
            ]
          },
          "metadata": {
            "tags": []
          },
          "execution_count": 19
        }
      ]
    },
    {
      "cell_type": "code",
      "metadata": {
        "id": "wGdO-oaRB_hw",
        "colab_type": "code",
        "colab": {}
      },
      "source": [
        "torch.set_printoptions(precision=4)"
      ],
      "execution_count": 20,
      "outputs": []
    },
    {
      "cell_type": "markdown",
      "metadata": {
        "colab_type": "text",
        "id": "kt-CZCaZ8WgO"
      },
      "source": [
        "### [Broadcasting](https://docs.scipy.org/doc/numpy-1.13.0/user/basics.broadcasting.html)\n",
        "\n",
        "Broadcasting automagically expands dimensions by replicating coefficients, when it is necessary to perform operations.\n",
        "\n",
        "1. If one of the tensors has fewer dimensions than the other, it is reshaped by adding as many dimensions of size 1 as necessary in the front; then\n",
        "2. for every mismatch, if one of the two tensor is of size one, it is expanded along this axis by replicating  coefficients.\n",
        "\n",
        "If there is a tensor size mismatch for one of the dimension and neither of them is one, the operation fails."
      ]
    },
    {
      "cell_type": "code",
      "metadata": {
        "colab_type": "code",
        "id": "SvB3V_ek8WgP",
        "colab": {
          "base_uri": "https://localhost:8080/",
          "height": 51
        },
        "outputId": "ebf73c32-1da5-4f81-bb96-00432a4dd39c"
      },
      "source": [
        "A = torch.tensor([[1.], [2.], [3.], [4.]])\n",
        "print(A.size())\n",
        "B = torch.tensor([[5., -5., 5., -5., 5.]])\n",
        "print(B.size())\n",
        "C = A + B"
      ],
      "execution_count": 21,
      "outputs": [
        {
          "output_type": "stream",
          "text": [
            "torch.Size([4, 1])\n",
            "torch.Size([1, 5])\n"
          ],
          "name": "stdout"
        }
      ]
    },
    {
      "cell_type": "code",
      "metadata": {
        "colab_type": "code",
        "id": "aqqe1aTr8WgQ",
        "colab": {
          "base_uri": "https://localhost:8080/",
          "height": 85
        },
        "outputId": "c237a5a5-a02f-4a72-fc3d-36e899b69ed7"
      },
      "source": [
        "C"
      ],
      "execution_count": 22,
      "outputs": [
        {
          "output_type": "execute_result",
          "data": {
            "text/plain": [
              "tensor([[ 6., -4.,  6., -4.,  6.],\n",
              "        [ 7., -3.,  7., -3.,  7.],\n",
              "        [ 8., -2.,  8., -2.,  8.],\n",
              "        [ 9., -1.,  9., -1.,  9.]])"
            ]
          },
          "metadata": {
            "tags": []
          },
          "execution_count": 22
        }
      ]
    },
    {
      "cell_type": "markdown",
      "metadata": {
        "id": "lvj9kBUCB_h3",
        "colab_type": "text"
      },
      "source": [
        "The original (column-)vector\n",
        "\\begin{eqnarray*}\n",
        "A = \\left( \\begin{array}{c}\n",
        "1\\\\\n",
        "2\\\\\n",
        "3\\\\\n",
        "4\\\\\n",
        "\\end{array}\\right)\n",
        "\\end{eqnarray*}\n",
        "is transformed into the matrix \n",
        "\\begin{eqnarray*}\n",
        "A = \\left( \\begin{array}{ccccc}\n",
        "1&1&1&1&1\\\\\n",
        "2&2&2&2&2\\\\\n",
        "3&3&3&3&3\\\\\n",
        "4&4&4&4&4\n",
        "\\end{array}\\right)\n",
        "\\end{eqnarray*}\n",
        "and the original (row-)vector\n",
        "\\begin{eqnarray*}\n",
        "B = (5,-5,5,-5,5)\n",
        "\\end{eqnarray*}\n",
        "is transformed into the matrix\n",
        "\\begin{eqnarray*}\n",
        "B = \\left( \\begin{array}{ccccc}\n",
        "5&-5&5&-5&5\\\\\n",
        "5&-5&5&-5&5\\\\\n",
        "5&-5&5&-5&5\\\\\n",
        "5&-5&5&-5&5\n",
        "\\end{array}\\right)\n",
        "\\end{eqnarray*}\n",
        "so that summing these matrices gives:\n",
        "\\begin{eqnarray*}\n",
        "A+B = \\left( \\begin{array}{ccccc}\n",
        "6&-4&6&-4&6\\\\\n",
        "7&-3&7&-3&7\\\\\n",
        "8&-2&8&-2&8\\\\\n",
        "9&-1&9&-1&9\n",
        "\\end{array}\\right)\n",
        "\\end{eqnarray*}"
      ]
    },
    {
      "cell_type": "markdown",
      "metadata": {
        "id": "gq32MIeZB_h3",
        "colab_type": "text"
      },
      "source": [
        "### In-place modification"
      ]
    },
    {
      "cell_type": "code",
      "metadata": {
        "id": "-V4Qvh2JB_h4",
        "colab_type": "code",
        "colab": {
          "base_uri": "https://localhost:8080/",
          "height": 68
        },
        "outputId": "28345283-4dd9-4219-91c0-9f852a2f4b77"
      },
      "source": [
        "x"
      ],
      "execution_count": 23,
      "outputs": [
        {
          "output_type": "execute_result",
          "data": {
            "text/plain": [
              "tensor([[ 0.0432,  0.3728,  0.7354,  0.0825,  1.7872],\n",
              "        [ 0.4063,  0.0654, -0.2812, -0.0637,  2.0922],\n",
              "        [ 1.0165, -0.7459, -0.1666,  0.7145,  1.2538]])"
            ]
          },
          "metadata": {
            "tags": []
          },
          "execution_count": 23
        }
      ]
    },
    {
      "cell_type": "code",
      "metadata": {
        "id": "VptqIf-0B_h7",
        "colab_type": "code",
        "colab": {
          "base_uri": "https://localhost:8080/",
          "height": 68
        },
        "outputId": "74f86af3-cd99-48aa-ac72-354b260ccd63"
      },
      "source": [
        "xr"
      ],
      "execution_count": 24,
      "outputs": [
        {
          "output_type": "execute_result",
          "data": {
            "text/plain": [
              "tensor([[ 0.7502,  0.4293, -0.4130,  0.0260, -0.7699],\n",
              "        [ 1.0670, -0.0406, -0.2798, -0.1696,  1.3175],\n",
              "        [ 1.2877,  0.2379,  0.9009, -0.5660, -0.2142]])"
            ]
          },
          "metadata": {
            "tags": []
          },
          "execution_count": 24
        }
      ]
    },
    {
      "cell_type": "code",
      "metadata": {
        "colab_type": "code",
        "id": "TlLf2SSZ8WfY",
        "colab": {
          "base_uri": "https://localhost:8080/",
          "height": 68
        },
        "outputId": "5807b948-5249-4d3c-d9b4-694c307f46e3"
      },
      "source": [
        "print(x+xr)"
      ],
      "execution_count": 25,
      "outputs": [
        {
          "output_type": "stream",
          "text": [
            "tensor([[ 0.7934,  0.8020,  0.3224,  0.1085,  1.0173],\n",
            "        [ 1.4734,  0.0248, -0.5610, -0.2334,  3.4097],\n",
            "        [ 2.3042, -0.5080,  0.7343,  0.1485,  1.0396]])\n"
          ],
          "name": "stdout"
        }
      ]
    },
    {
      "cell_type": "code",
      "metadata": {
        "colab_type": "code",
        "id": "jk8j_AhL8Wfa",
        "colab": {
          "base_uri": "https://localhost:8080/",
          "height": 68
        },
        "outputId": "0a4a965a-134a-4d84-901a-8d702941504f"
      },
      "source": [
        "x.add_(xr)\n",
        "print(x)"
      ],
      "execution_count": 26,
      "outputs": [
        {
          "output_type": "stream",
          "text": [
            "tensor([[ 0.7934,  0.8020,  0.3224,  0.1085,  1.0173],\n",
            "        [ 1.4734,  0.0248, -0.5610, -0.2334,  3.4097],\n",
            "        [ 2.3042, -0.5080,  0.7343,  0.1485,  1.0396]])\n"
          ],
          "name": "stdout"
        }
      ]
    },
    {
      "cell_type": "markdown",
      "metadata": {
        "colab_type": "text",
        "id": "KmB6aFc08Wfc"
      },
      "source": [
        "Any operation that mutates a tensor in-place is post-fixed with an ```_```\n",
        "\n",
        "For example: ```x.fill_(y)```, ```x.t_()```, will change ```x```."
      ]
    },
    {
      "cell_type": "code",
      "metadata": {
        "colab_type": "code",
        "id": "Rzb4jk-d8Wfd",
        "colab": {
          "base_uri": "https://localhost:8080/",
          "height": 102
        },
        "outputId": "f918ba27-6472-4d4d-ec5b-de5da43bc302"
      },
      "source": [
        "print(x.t())"
      ],
      "execution_count": 27,
      "outputs": [
        {
          "output_type": "stream",
          "text": [
            "tensor([[ 0.7934,  1.4734,  2.3042],\n",
            "        [ 0.8020,  0.0248, -0.5080],\n",
            "        [ 0.3224, -0.5610,  0.7343],\n",
            "        [ 0.1085, -0.2334,  0.1485],\n",
            "        [ 1.0173,  3.4097,  1.0396]])\n"
          ],
          "name": "stdout"
        }
      ]
    },
    {
      "cell_type": "code",
      "metadata": {
        "colab_type": "code",
        "id": "ZNXvqa_38Wff",
        "colab": {
          "base_uri": "https://localhost:8080/",
          "height": 102
        },
        "outputId": "70916012-1e32-43f5-fcab-6c248dd9d099"
      },
      "source": [
        "x.t_()\n",
        "print(x)"
      ],
      "execution_count": 28,
      "outputs": [
        {
          "output_type": "stream",
          "text": [
            "tensor([[ 0.7934,  1.4734,  2.3042],\n",
            "        [ 0.8020,  0.0248, -0.5080],\n",
            "        [ 0.3224, -0.5610,  0.7343],\n",
            "        [ 0.1085, -0.2334,  0.1485],\n",
            "        [ 1.0173,  3.4097,  1.0396]])\n"
          ],
          "name": "stdout"
        }
      ]
    },
    {
      "cell_type": "markdown",
      "metadata": {
        "colab_type": "text",
        "id": "zO4O1rJD8Wfi"
      },
      "source": [
        "### Shared memory\n",
        "\n",
        "Also be careful, changing the torch tensor modify the numpy array and vice-versa...\n",
        "\n",
        "This is explained in the PyTorch documentation [here](https://pytorch.org/docs/stable/torch.html#torch.from_numpy):\n",
        "The returned tensor by `torch.from_numpy` and ndarray share the same memory. Modifications to the tensor will be reflected in the ndarray and vice versa. "
      ]
    },
    {
      "cell_type": "code",
      "metadata": {
        "colab_type": "code",
        "id": "EYOR2MzI8Wfj",
        "colab": {
          "base_uri": "https://localhost:8080/",
          "height": 34
        },
        "outputId": "a1f4c5cb-2fb8-4342-dcb6-528cea322b27"
      },
      "source": [
        "a = np.ones(5)\n",
        "b = torch.from_numpy(a)\n",
        "print(b)"
      ],
      "execution_count": 29,
      "outputs": [
        {
          "output_type": "stream",
          "text": [
            "tensor([1., 1., 1., 1., 1.], dtype=torch.float64)\n"
          ],
          "name": "stdout"
        }
      ]
    },
    {
      "cell_type": "code",
      "metadata": {
        "colab_type": "code",
        "id": "ZP8DJXaC8Wfl",
        "colab": {
          "base_uri": "https://localhost:8080/",
          "height": 34
        },
        "outputId": "be7d4d40-fb86-44e1-bb41-2373556a7503"
      },
      "source": [
        "a[2] = 0\n",
        "print(b)"
      ],
      "execution_count": 30,
      "outputs": [
        {
          "output_type": "stream",
          "text": [
            "tensor([1., 1., 0., 1., 1.], dtype=torch.float64)\n"
          ],
          "name": "stdout"
        }
      ]
    },
    {
      "cell_type": "code",
      "metadata": {
        "id": "5Ixqe4FEB_iL",
        "colab_type": "code",
        "colab": {
          "base_uri": "https://localhost:8080/",
          "height": 34
        },
        "outputId": "aa87ce59-223c-44cd-ef5c-50ee5d01e61f"
      },
      "source": [
        "b[3] = 5\n",
        "print(a)"
      ],
      "execution_count": 31,
      "outputs": [
        {
          "output_type": "stream",
          "text": [
            "[1. 1. 0. 5. 1.]\n"
          ],
          "name": "stdout"
        }
      ]
    },
    {
      "cell_type": "markdown",
      "metadata": {
        "id": "ahC2FkEGB_iN",
        "colab_type": "text"
      },
      "source": [
        "### Cuda"
      ]
    },
    {
      "cell_type": "code",
      "metadata": {
        "colab_type": "code",
        "id": "0Aq_IjCa8Wfo",
        "colab": {
          "base_uri": "https://localhost:8080/",
          "height": 34
        },
        "outputId": "a6ff54ee-331d-435c-fdd1-dadaa2edf9d0"
      },
      "source": [
        "torch.cuda.is_available()"
      ],
      "execution_count": 32,
      "outputs": [
        {
          "output_type": "execute_result",
          "data": {
            "text/plain": [
              "True"
            ]
          },
          "metadata": {
            "tags": []
          },
          "execution_count": 32
        }
      ]
    },
    {
      "cell_type": "code",
      "metadata": {
        "colab_type": "code",
        "id": "eZ9T7v3L8Wfq",
        "colab": {}
      },
      "source": [
        "#device = torch.device('cpu')\n",
        "device = torch.device('cuda') # Uncomment this to run on GPU"
      ],
      "execution_count": 33,
      "outputs": []
    },
    {
      "cell_type": "code",
      "metadata": {
        "colab_type": "code",
        "id": "BQv3WhHn8Wft",
        "colab": {
          "base_uri": "https://localhost:8080/",
          "height": 34
        },
        "outputId": "a88ca230-7faa-4603-f0fd-fa843b706a61"
      },
      "source": [
        "x.device"
      ],
      "execution_count": 34,
      "outputs": [
        {
          "output_type": "execute_result",
          "data": {
            "text/plain": [
              "device(type='cpu')"
            ]
          },
          "metadata": {
            "tags": []
          },
          "execution_count": 34
        }
      ]
    },
    {
      "cell_type": "code",
      "metadata": {
        "id": "0BjVZfauZ0wQ",
        "colab_type": "code",
        "colab": {
          "base_uri": "https://localhost:8080/",
          "height": 34
        },
        "outputId": "f7636dd1-842f-4390-e077-2d5b27449963"
      },
      "source": [
        "x.dtype"
      ],
      "execution_count": 35,
      "outputs": [
        {
          "output_type": "execute_result",
          "data": {
            "text/plain": [
              "torch.float32"
            ]
          },
          "metadata": {
            "tags": []
          },
          "execution_count": 35
        }
      ]
    },
    {
      "cell_type": "code",
      "metadata": {
        "colab_type": "code",
        "id": "eKY8kHv_8Wfw",
        "colab": {
          "base_uri": "https://localhost:8080/",
          "height": 187
        },
        "outputId": "fd1bac96-4abf-45e4-e508-2dfb66be10ac"
      },
      "source": [
        "# let us run this cell only if CUDA is available\n",
        "# We will use ``torch.device`` objects to move tensors in and out of GPU\n",
        "if torch.cuda.is_available():\n",
        "    y = torch.ones_like(x, device=device)  # directly create a tensor on GPU\n",
        "    x = x.to(device)                       # or just use strings ``.to(\"cuda\")``\n",
        "    z = x + y\n",
        "    print(z,z.type())\n",
        "    print(z.to(\"cpu\", torch.double))       # ``.to`` can also change dtype together!"
      ],
      "execution_count": 38,
      "outputs": [
        {
          "output_type": "stream",
          "text": [
            "tensor([[1.7934, 2.4734, 3.3042],\n",
            "        [1.8020, 1.0248, 0.4920],\n",
            "        [1.3224, 0.4390, 1.7343],\n",
            "        [1.1085, 0.7666, 1.1485],\n",
            "        [2.0173, 4.4097, 2.0396]], device='cuda:0') torch.cuda.FloatTensor\n",
            "tensor([[1.7934, 2.4734, 3.3042],\n",
            "        [1.8020, 1.0248, 0.4920],\n",
            "        [1.3224, 0.4390, 1.7343],\n",
            "        [1.1085, 0.7666, 1.1485],\n",
            "        [2.0173, 4.4097, 2.0396]], dtype=torch.float64)\n"
          ],
          "name": "stdout"
        }
      ]
    },
    {
      "cell_type": "code",
      "metadata": {
        "colab_type": "code",
        "id": "1A7Q5VYK8Wfx",
        "colab": {}
      },
      "source": [
        "x = torch.randn(1)\n",
        "x = x.to(device)"
      ],
      "execution_count": 39,
      "outputs": []
    },
    {
      "cell_type": "code",
      "metadata": {
        "colab_type": "code",
        "id": "EnzdVsQW8HR3",
        "colab": {
          "base_uri": "https://localhost:8080/",
          "height": 34
        },
        "outputId": "054e30ce-4967-4f6a-bcf9-0ace477a642c"
      },
      "source": [
        "x.device"
      ],
      "execution_count": 40,
      "outputs": [
        {
          "output_type": "execute_result",
          "data": {
            "text/plain": [
              "device(type='cuda', index=0)"
            ]
          },
          "metadata": {
            "tags": []
          },
          "execution_count": 40
        }
      ]
    },
    {
      "cell_type": "code",
      "metadata": {
        "colab_type": "code",
        "id": "6DzbPRKV8Wfz",
        "colab": {
          "base_uri": "https://localhost:8080/",
          "height": 68
        },
        "outputId": "a5eb2efd-1973-4302-9fa7-be459d98d693"
      },
      "source": [
        "# the following line is only useful if CUDA is available\n",
        "x = x.data\n",
        "print(x)\n",
        "print(x.item())\n",
        "print(x.cpu().numpy())"
      ],
      "execution_count": 41,
      "outputs": [
        {
          "output_type": "stream",
          "text": [
            "tensor([0.1118], device='cuda:0')\n",
            "0.11181820183992386\n",
            "[0.1118182]\n"
          ],
          "name": "stdout"
        }
      ]
    },
    {
      "cell_type": "markdown",
      "metadata": {
        "colab_type": "text",
        "id": "QdtofUO78Wf1"
      },
      "source": [
        "# Simple interfaces to standard image data-bases"
      ]
    },
    {
      "cell_type": "markdown",
      "metadata": {
        "id": "Ppop1eqWB_if",
        "colab_type": "text"
      },
      "source": [
        "An example, the [CIFAR10](https://pytorch.org/docs/stable/torchvision/datasets.html#torchvision.datasets.CIFAR10) dataset."
      ]
    },
    {
      "cell_type": "code",
      "metadata": {
        "colab_type": "code",
        "id": "E7O6lDC88Wf1",
        "colab": {
          "base_uri": "https://localhost:8080/",
          "height": 100,
          "referenced_widgets": [
            "54a370ed61ed4d8c872d26eee4f98ed9",
            "5e41dd6fa1e143888af110f37430c5fd",
            "99b72ea435594952a744970fbdcf537e",
            "2b8a5b17f0cc49cdab5a9ec3f8f3ed95",
            "6b193a2df08949acabc49df165039d6d",
            "8b3c081a39904cf2b984fdb680f14549",
            "12f014f0b50644b0b89de32ac8936009",
            "7963d192705f459982ab3c8ec0baf8e2"
          ]
        },
        "outputId": "14796ac2-888d-43aa-ee2f-a2dfa01031d9"
      },
      "source": [
        "import torchvision\n",
        "\n",
        "data_dir = 'content/data'\n",
        "\n",
        "cifar = torchvision.datasets.CIFAR10(data_dir, train = True, download = True)\n",
        "cifar.data.shape"
      ],
      "execution_count": 42,
      "outputs": [
        {
          "output_type": "stream",
          "text": [
            "Downloading https://www.cs.toronto.edu/~kriz/cifar-10-python.tar.gz to content/data/cifar-10-python.tar.gz\n"
          ],
          "name": "stdout"
        },
        {
          "output_type": "display_data",
          "data": {
            "application/vnd.jupyter.widget-view+json": {
              "model_id": "54a370ed61ed4d8c872d26eee4f98ed9",
              "version_minor": 0,
              "version_major": 2
            },
            "text/plain": [
              "HBox(children=(FloatProgress(value=1.0, bar_style='info', max=1.0), HTML(value='')))"
            ]
          },
          "metadata": {
            "tags": []
          }
        },
        {
          "output_type": "stream",
          "text": [
            "Extracting content/data/cifar-10-python.tar.gz to content/data\n"
          ],
          "name": "stdout"
        },
        {
          "output_type": "execute_result",
          "data": {
            "text/plain": [
              "(50000, 32, 32, 3)"
            ]
          },
          "metadata": {
            "tags": []
          },
          "execution_count": 42
        }
      ]
    },
    {
      "cell_type": "markdown",
      "metadata": {
        "id": "JfIsAgwGB_ih",
        "colab_type": "text"
      },
      "source": [
        "Documentation about the [`permute`](https://pytorch.org/docs/stable/tensors.html#torch.Tensor.permute) operation."
      ]
    },
    {
      "cell_type": "code",
      "metadata": {
        "colab_type": "code",
        "id": "37KuS3m-B_ii",
        "colab": {
          "base_uri": "https://localhost:8080/",
          "height": 34
        },
        "outputId": "873b65af-9cba-4614-f731-e7274a724cf5"
      },
      "source": [
        "x = torch.from_numpy(cifar.data).permute(0,3,1,2).float()\n",
        "x = x / 255\n",
        "print(x.type(), x.size(), x.min().item(), x.max().item())"
      ],
      "execution_count": 43,
      "outputs": [
        {
          "output_type": "stream",
          "text": [
            "torch.FloatTensor torch.Size([50000, 3, 32, 32]) 0.0 1.0\n"
          ],
          "name": "stdout"
        }
      ]
    },
    {
      "cell_type": "markdown",
      "metadata": {
        "id": "dfrAC1GaB_ik",
        "colab_type": "text"
      },
      "source": [
        "Documentation about the [`narrow(input, dim, start, length)`](https://pytorch.org/docs/stable/torch.html#torch.narrow) operation."
      ]
    },
    {
      "cell_type": "code",
      "metadata": {
        "colab_type": "code",
        "id": "DZUzzXJD8Wf3",
        "colab": {}
      },
      "source": [
        "# Narrows to the first images, converts to float\n",
        "x = torch.narrow(x, 0, 0, 48)"
      ],
      "execution_count": 44,
      "outputs": []
    },
    {
      "cell_type": "code",
      "metadata": {
        "id": "q5J3ohUMB_im",
        "colab_type": "code",
        "colab": {
          "base_uri": "https://localhost:8080/",
          "height": 34
        },
        "outputId": "8a467b34-eb21-4906-cc71-5a1658dfe35a"
      },
      "source": [
        "x.shape"
      ],
      "execution_count": 45,
      "outputs": [
        {
          "output_type": "execute_result",
          "data": {
            "text/plain": [
              "torch.Size([48, 3, 32, 32])"
            ]
          },
          "metadata": {
            "tags": []
          },
          "execution_count": 45
        }
      ]
    },
    {
      "cell_type": "code",
      "metadata": {
        "colab_type": "code",
        "id": "eVT7H5jS8Wf8",
        "colab": {
          "base_uri": "https://localhost:8080/",
          "height": 426
        },
        "outputId": "bd8c5eb7-6a8b-4df1-f08d-d9c405311d0e"
      },
      "source": [
        "# Showing images\n",
        "def show(img):\n",
        "    npimg = img.numpy()\n",
        "    plt.figure(figsize=(20,10))\n",
        "    plt.imshow(np.transpose(npimg, (1,2,0)), interpolation='nearest')\n",
        "    \n",
        "show(torchvision.utils.make_grid(x, nrow = 12))"
      ],
      "execution_count": 46,
      "outputs": [
        {
          "output_type": "display_data",
          "data": {
            "image/png": "[encoded data removed]",
            "text/plain": [
              "<Figure size 1440x720 with 1 Axes>"
            ]
          },
          "metadata": {
            "tags": [],
            "needs_background": "light"
          }
        }
      ]
    },
    {
      "cell_type": "code",
      "metadata": {
        "colab_type": "code",
        "id": "9WuxYev_8Wf_",
        "colab": {}
      },
      "source": [
        "# Kills the green and blue channels\n",
        "x.narrow(1, 1, 2).fill_(0)\n",
        "show(torchvision.utils.make_grid(x, nrow = 12))"
      ],
      "execution_count": null,
      "outputs": []
    },
    {
      "cell_type": "markdown",
      "metadata": {
        "colab_type": "text",
        "id": "QWopk2GX8WgB"
      },
      "source": [
        "# Autograd: automatic differentiation\n",
        "\n",
        "When executing tensor operations, PyTorch can automatically construct on-the-fly the graph of operations to compute the gradient of any quantity with respect to any tensor involved.\n",
        "\n",
        "To be more concrete, we introduce the following example: we consider parameters $w\\in \\mathbb{R}$ and $b\\in \\mathbb{R}$ with the corresponding function:\n",
        "\\begin{eqnarray*}\n",
        "\\ell = \\left(\\exp(wx+b) - y^* \\right)^2\n",
        "\\end{eqnarray*}\n",
        "\n",
        "Our goal here, will be to compute the following partial derivatives:\n",
        "\\begin{eqnarray*}\n",
        "\\frac{\\partial \\ell}{\\partial w}\\mbox{ and, }\\frac{\\partial \\ell}{\\partial b}.\n",
        "\\end{eqnarray*}\n",
        "\n",
        "The reason for doing this will be clear when you will solve the practicals for this lesson!\n",
        "\n",
        "You can decompose this function as a composition of basic operations. This is call the forward pass on the graph of operations.\n",
        "![backprop1](https://mlelarge.github.io/dataflowr/PlutonAI/backprop1.png)"
      ]
    },
    {
      "cell_type": "markdown",
      "metadata": {
        "id": "78AWWCb9B_iu",
        "colab_type": "text"
      },
      "source": [
        "Let say we start with our model in `numpy`:"
      ]
    },
    {
      "cell_type": "code",
      "metadata": {
        "id": "4TEixrqxB_iv",
        "colab_type": "code",
        "colab": {}
      },
      "source": [
        "w = np.array([0.5])\n",
        "b = np.array([2])\n",
        "xx = np.array([0.5])#np.arange(0,1.5,.5)"
      ],
      "execution_count": null,
      "outputs": []
    },
    {
      "cell_type": "markdown",
      "metadata": {
        "id": "CZ8DlM8lB_iw",
        "colab_type": "text"
      },
      "source": [
        "transform these into `tensor`:"
      ]
    },
    {
      "cell_type": "code",
      "metadata": {
        "id": "tKl5570iB_ix",
        "colab_type": "code",
        "colab": {}
      },
      "source": [
        "xx_t = torch.from_numpy(xx)\n",
        "w_t = torch.from_numpy(w)\n",
        "b_t = torch.from_numpy(b)"
      ],
      "execution_count": null,
      "outputs": []
    },
    {
      "cell_type": "markdown",
      "metadata": {
        "id": "j9PwWnxYB_iz",
        "colab_type": "text"
      },
      "source": [
        "A `tensor` has a Boolean field `requires_grad`, set to `False` by default, which states if PyTorch should build the graph of operations so that gradients with respect to it can be computed."
      ]
    },
    {
      "cell_type": "code",
      "metadata": {
        "id": "WbWfbvtdB_iz",
        "colab_type": "code",
        "colab": {}
      },
      "source": [
        "w_t.requires_grad"
      ],
      "execution_count": null,
      "outputs": []
    },
    {
      "cell_type": "markdown",
      "metadata": {
        "id": "T8rD3GLyB_i2",
        "colab_type": "text"
      },
      "source": [
        "We want to take derivative with respect to $w$ so we change this value:"
      ]
    },
    {
      "cell_type": "code",
      "metadata": {
        "id": "iqS0CC8NB_i2",
        "colab_type": "code",
        "colab": {}
      },
      "source": [
        "w_t.requires_grad_(True)"
      ],
      "execution_count": null,
      "outputs": []
    },
    {
      "cell_type": "markdown",
      "metadata": {
        "id": "ysa_qEvFB_i5",
        "colab_type": "text"
      },
      "source": [
        "We want to do the same thing for $b$ but the following line will produce an error!"
      ]
    },
    {
      "cell_type": "code",
      "metadata": {
        "id": "8pSa2V4yB_i5",
        "colab_type": "code",
        "colab": {}
      },
      "source": [
        "b_t.requires_grad_(True)"
      ],
      "execution_count": null,
      "outputs": []
    },
    {
      "cell_type": "markdown",
      "metadata": {
        "id": "EL0X9fIsB_i8",
        "colab_type": "text"
      },
      "source": [
        "Reading the error message should allow you to correct the mistake!"
      ]
    },
    {
      "cell_type": "code",
      "metadata": {
        "id": "imH8JSXxB_i-",
        "colab_type": "code",
        "colab": {}
      },
      "source": [
        "dtype = torch.float64"
      ],
      "execution_count": null,
      "outputs": []
    },
    {
      "cell_type": "code",
      "metadata": {
        "id": "XLSSIn5jB_jA",
        "colab_type": "code",
        "colab": {}
      },
      "source": [
        "b_t = b_t.type(dtype)"
      ],
      "execution_count": null,
      "outputs": []
    },
    {
      "cell_type": "code",
      "metadata": {
        "id": "k6mpavg-B_jD",
        "colab_type": "code",
        "colab": {}
      },
      "source": [
        "b_t.requires_grad_(True)"
      ],
      "execution_count": null,
      "outputs": []
    },
    {
      "cell_type": "markdown",
      "metadata": {
        "id": "Melb8jo8B_jE",
        "colab_type": "text"
      },
      "source": [
        "We now compute the function:"
      ]
    },
    {
      "cell_type": "code",
      "metadata": {
        "id": "elI91IulB_jF",
        "colab_type": "code",
        "colab": {}
      },
      "source": [
        "def fun(x,ystar):\n",
        "    y = torch.exp(w_t*x+b_t)\n",
        "    print(y)\n",
        "    return torch.sum((y-ystar)**2)\n",
        "\n",
        "ystar_t = torch.randn_like(xx_t)\n",
        "l_t = fun(xx_t,ystar_t)"
      ],
      "execution_count": null,
      "outputs": []
    },
    {
      "cell_type": "code",
      "metadata": {
        "id": "Q5qpcse1B_jG",
        "colab_type": "code",
        "colab": {}
      },
      "source": [
        "l_t"
      ],
      "execution_count": null,
      "outputs": []
    },
    {
      "cell_type": "code",
      "metadata": {
        "id": "2WXzmCSdB_jI",
        "colab_type": "code",
        "colab": {}
      },
      "source": [
        "l_t.requires_grad"
      ],
      "execution_count": null,
      "outputs": []
    },
    {
      "cell_type": "markdown",
      "metadata": {
        "id": "zJEjjKBFB_jK",
        "colab_type": "text"
      },
      "source": [
        "After the computation is finished, i.e. *forward pass*, you can call ```.backward()``` and have all the gradients computed automatically."
      ]
    },
    {
      "cell_type": "code",
      "metadata": {
        "id": "x1m1CowRB_jK",
        "colab_type": "code",
        "colab": {}
      },
      "source": [
        "print(w_t.grad)"
      ],
      "execution_count": null,
      "outputs": []
    },
    {
      "cell_type": "code",
      "metadata": {
        "id": "rTw9bl4DB_jM",
        "colab_type": "code",
        "colab": {}
      },
      "source": [
        "l_t.backward()"
      ],
      "execution_count": null,
      "outputs": []
    },
    {
      "cell_type": "code",
      "metadata": {
        "id": "k4_zWnJkB_jO",
        "colab_type": "code",
        "colab": {}
      },
      "source": [
        "print(w_t.grad)\n",
        "print(b_t.grad)"
      ],
      "execution_count": null,
      "outputs": []
    },
    {
      "cell_type": "markdown",
      "metadata": {
        "id": "b8fwcPgHB_jP",
        "colab_type": "text"
      },
      "source": [
        "Let's try to understand these numbers...\n",
        "\n",
        "![backprop2](https://mlelarge.github.io/dataflowr/PlutonAI/backprop2.png)"
      ]
    },
    {
      "cell_type": "code",
      "metadata": {
        "id": "ZDV9lByQB_jP",
        "colab_type": "code",
        "colab": {}
      },
      "source": [
        "yy_t = torch.exp(w_t*xx_t+b_t)\n",
        "print(torch.sum(2*(yy_t-ystar_t)*yy_t*xx_t))\n",
        "print(torch.sum(2*(yy_t-ystar_t)*yy_t))"
      ],
      "execution_count": null,
      "outputs": []
    },
    {
      "cell_type": "markdown",
      "metadata": {
        "colab_type": "text",
        "id": "QMguUH4y8WgW"
      },
      "source": [
        "`tensor.backward()` accumulates the gradients in  the `grad` fields  of tensors."
      ]
    },
    {
      "cell_type": "code",
      "metadata": {
        "id": "70jDhm91B_jR",
        "colab_type": "code",
        "colab": {}
      },
      "source": [
        "l_t = fun(xx_t,ystar_t)\n",
        "l_t.backward()"
      ],
      "execution_count": null,
      "outputs": []
    },
    {
      "cell_type": "code",
      "metadata": {
        "colab_type": "code",
        "id": "L5H8BQOs8WgW",
        "colab": {}
      },
      "source": [
        "print(w_t.grad)\n",
        "print(b_t.grad)"
      ],
      "execution_count": null,
      "outputs": []
    },
    {
      "cell_type": "markdown",
      "metadata": {
        "id": "1H2ZnVM5B_jU",
        "colab_type": "text"
      },
      "source": [
        "By default, `backward` deletes the computational graph when it is used so that you will get an error below:"
      ]
    },
    {
      "cell_type": "code",
      "metadata": {
        "id": "06_uW2EwB_jU",
        "colab_type": "code",
        "colab": {}
      },
      "source": [
        "l_t.backward()"
      ],
      "execution_count": null,
      "outputs": []
    },
    {
      "cell_type": "code",
      "metadata": {
        "id": "fHxmIJj2B_jX",
        "colab_type": "code",
        "colab": {}
      },
      "source": [
        "# Manually zero the gradients\n",
        "w_t.grad.data.zero_()\n",
        "b_t.grad.data.zero_()\n",
        "l_t = fun(xx_t,ystar_t)\n",
        "l_t.backward(retain_graph=True)\n",
        "l_t.backward()\n",
        "print(w_t.grad)\n",
        "print(b_t.grad)"
      ],
      "execution_count": null,
      "outputs": []
    },
    {
      "cell_type": "markdown",
      "metadata": {
        "colab_type": "text",
        "id": "v40jAQEE8Wgu"
      },
      "source": [
        "The gradients must be set to zero manually. Otherwise they will cumulate across several _.backward()_ calls. \n",
        "This accumulating behavior is desirable in particular to compute the gradient of a loss summed over several “mini-batches,” or the gradient of a sum of losses."
      ]
    },
    {
      "cell_type": "markdown",
      "metadata": {
        "colab_type": "text",
        "id": "ZkT-mC9R8Wgy"
      },
      "source": [
        "# Playing with pytorch: linear regression"
      ]
    },
    {
      "cell_type": "markdown",
      "metadata": {
        "colab_type": "text",
        "id": "XsESRui28Wgy"
      },
      "source": [
        "## Warm-up: Linear regression with numpy"
      ]
    },
    {
      "cell_type": "markdown",
      "metadata": {
        "colab_type": "text",
        "id": "FvAi4z478Wg0"
      },
      "source": [
        "Our model is:\n",
        "$$\n",
        "y_t = 2x^1_t-3x^2_t+1, \\quad t\\in\\{1,\\dots,30\\}\n",
        "$$\n",
        "\n",
        "Our task is given the 'observations' $(x_t,y_t)_{t\\in\\{1,\\dots,30\\}}$ to recover the weights $w^1=2, w^2=-3$ and the bias $b = 1$.\n",
        "\n",
        "In order to do so, we will solve the following optimization problem:\n",
        "$$\n",
        "\\underset{w^1,w^2,b}{\\operatorname{argmin}} \\sum_{t=1}^{30} \\left(w^1x^1_t+w^2x^2_t+b-y_t\\right)^2\n",
        "$$"
      ]
    },
    {
      "cell_type": "code",
      "metadata": {
        "colab_type": "code",
        "id": "_hSr09Qa8Wg1",
        "colab": {}
      },
      "source": [
        "import numpy as np\n",
        "from numpy.random import random\n",
        "# generate random input data\n",
        "x = random((30,2))\n",
        "\n",
        "# generate labels corresponding to input data x\n",
        "y = np.dot(x, [2., -3.]) + 1.\n",
        "w_source = np.array([2., -3.])\n",
        "b_source  = np.array([1.])"
      ],
      "execution_count": null,
      "outputs": []
    },
    {
      "cell_type": "code",
      "metadata": {
        "colab_type": "code",
        "id": "Vclk_vje8Wg2",
        "colab": {}
      },
      "source": [
        "x[:5]"
      ],
      "execution_count": null,
      "outputs": []
    },
    {
      "cell_type": "code",
      "metadata": {
        "colab_type": "code",
        "id": "S5F3fcVN8Wg6",
        "colab": {}
      },
      "source": [
        "import matplotlib.pyplot as plt\n",
        "import numpy as np\n",
        "from mpl_toolkits.mplot3d import Axes3D\n",
        "\n",
        "def plot_figs(fig_num, elev, azim, x, y, weights, bias):\n",
        "    fig = plt.figure(fig_num, figsize=(4, 3))\n",
        "    plt.clf()\n",
        "    ax = Axes3D(fig, elev=elev, azim=azim)\n",
        "    ax.scatter(x[:, 0], x[:, 1], y)\n",
        "    ax.plot_surface(np.array([[0, 0], [1, 1]]),\n",
        "                    np.array([[0, 1], [0, 1]]),\n",
        "                    (np.dot(np.array([[0, 0, 1, 1],\n",
        "                                          [0, 1, 0, 1]]).T, weights) + bias).reshape((2, 2)),\n",
        "                    alpha=.5)\n",
        "    ax.set_xlabel('x_1')\n",
        "    ax.set_ylabel('x_2')\n",
        "    ax.set_zlabel('y')\n",
        "    \n",
        "def plot_views(x, y, w, b):\n",
        "    #Generate the different figures from different views\n",
        "    elev = 43.5\n",
        "    azim = -110\n",
        "    plot_figs(1, elev, azim, x, y, w, b[0])\n",
        "\n",
        "    plt.show()"
      ],
      "execution_count": null,
      "outputs": []
    },
    {
      "cell_type": "code",
      "metadata": {
        "colab_type": "code",
        "id": "8l7XSyJM8Wg8",
        "colab": {}
      },
      "source": [
        "plot_views(x, y, w_source, b_source)"
      ],
      "execution_count": null,
      "outputs": []
    },
    {
      "cell_type": "markdown",
      "metadata": {
        "colab_type": "text",
        "id": "FCZAMgQn8Wg9"
      },
      "source": [
        "In vector form, we define:\n",
        "$$\n",
        "\\hat{y}_t = {\\bf w}^T{\\bf x}_t+b\n",
        "$$\n",
        "and we want to minimize the loss given by:\n",
        "$$\n",
        "loss = \\sum_t\\underbrace{\\left(\\hat{y}_t-y_t \\right)^2}_{loss_t}.\n",
        "$$\n",
        "\n",
        "To minimize the loss we first compute the gradient of each $loss_t$:\n",
        "\\begin{eqnarray*}\n",
        "\\frac{\\partial{loss_t}}{\\partial w^1} &=& 2x^1_t\\left({\\bf w}^T{\\bf x}_t+b-y_t \\right)\\\\\n",
        "\\frac{\\partial{loss_t}}{\\partial w^2} &=& 2x^2_t\\left({\\bf w}^T{\\bf x}_t+b-y_t \\right)\\\\\n",
        "\\frac{\\partial{loss_t}}{\\partial b} &=& 2\\left({\\bf w}^T{\\bf x}_t+b-y_t \\right)\n",
        "\\end{eqnarray*}\n",
        "\n",
        "Note that the actual gradient of the loss is given by:\n",
        "$$\n",
        "\\frac{\\partial{loss}}{\\partial w^1} =\\sum_t \\frac{\\partial{loss_t}}{\\partial w^1},\\quad\n",
        "\\frac{\\partial{loss}}{\\partial w^2} =\\sum_t \\frac{\\partial{loss_t}}{\\partial w^2},\\quad\n",
        "\\frac{\\partial{loss}}{\\partial b} =\\sum_t \\frac{\\partial{loss_t}}{\\partial b}\n",
        "$$\n",
        "\n",
        "For one epoch, **(Batch) Gradient Descent** updates the weights and bias as follows:\n",
        "\\begin{eqnarray*}\n",
        "w^1_{new}&=&w^1_{old}-\\alpha\\frac{\\partial{loss}}{\\partial w^1} \\\\\n",
        "w^2_{new}&=&w^2_{old}-\\alpha\\frac{\\partial{loss}}{\\partial w^2} \\\\\n",
        "b_{new}&=&b_{old}-\\alpha\\frac{\\partial{loss}}{\\partial b},\n",
        "\\end{eqnarray*}\n",
        "\n",
        "and then we run several epochs."
      ]
    },
    {
      "cell_type": "code",
      "metadata": {
        "colab_type": "code",
        "id": "q2eUfQws8WhA",
        "colab": {}
      },
      "source": [
        "# randomly initialize learnable weights and bias\n",
        "w_init = random(2)\n",
        "b_init = random(1)\n",
        "\n",
        "w = w_init\n",
        "b = b_init\n",
        "print(\"initial values of the parameters:\", w, b )"
      ],
      "execution_count": null,
      "outputs": []
    },
    {
      "cell_type": "code",
      "metadata": {
        "colab_type": "code",
        "scrolled": true,
        "id": "z1kUBCujB_jk",
        "colab": {}
      },
      "source": [
        "# our model forward pass\n",
        "def forward(x):\n",
        "    return x.dot(w)+b\n",
        "\n",
        "# Loss function\n",
        "def loss(x, y):\n",
        "    y_pred = forward(x)\n",
        "    return (y_pred - y)**2 \n",
        "\n",
        "print(\"initial loss:\", np.sum([loss(x_val,y_val) for x_val, y_val in zip(x, y)]) )\n",
        "\n",
        "# compute gradient\n",
        "def gradient(x, y):  # d_loss/d_w, d_loss/d_c\n",
        "    return 2*(x.dot(w)+b - y)*x, 2 * (x.dot(w)+b - y)\n",
        " \n",
        "learning_rate = 1e-2\n",
        "# Training loop\n",
        "for epoch in range(10):\n",
        "    grad_w = np.array([0,0])\n",
        "    grad_b = np.array(0)\n",
        "    l = 0\n",
        "    for x_val, y_val in zip(x, y):\n",
        "        grad_w = np.add(grad_w,gradient(x_val, y_val)[0])\n",
        "        grad_b = np.add(grad_b,gradient(x_val, y_val)[1])\n",
        "        l += loss(x_val, y_val)\n",
        "    w = w - learning_rate * grad_w\n",
        "    b = b - learning_rate * grad_b\n",
        "    print(\"progress:\", \"epoch:\", epoch, \"loss\",l[0])\n",
        "\n",
        "# After training\n",
        "print(\"estimation of the parameters:\", w, b)"
      ],
      "execution_count": null,
      "outputs": []
    },
    {
      "cell_type": "code",
      "metadata": {
        "colab_type": "code",
        "id": "BO_DKaes8WhB",
        "colab": {}
      },
      "source": [
        "plot_views(x, y, w, b)"
      ],
      "execution_count": null,
      "outputs": []
    },
    {
      "cell_type": "markdown",
      "metadata": {
        "colab_type": "text",
        "id": "dQz2GoXh8WhC"
      },
      "source": [
        "## Linear regression with tensors"
      ]
    },
    {
      "cell_type": "code",
      "metadata": {
        "colab_type": "code",
        "id": "9KKfUKVn8WhD",
        "colab": {}
      },
      "source": [
        "dtype = torch.FloatTensor\n",
        "# dtype = torch.cuda.FloatTensor # Uncomment this to run on GPU"
      ],
      "execution_count": null,
      "outputs": []
    },
    {
      "cell_type": "code",
      "metadata": {
        "colab_type": "code",
        "id": "aLQeUOFi8WhF",
        "colab": {}
      },
      "source": [
        "x_t = torch.from_numpy(x).type(dtype)\n",
        "y_t = torch.from_numpy(y).type(dtype).unsqueeze(1)"
      ],
      "execution_count": null,
      "outputs": []
    },
    {
      "cell_type": "markdown",
      "metadata": {
        "colab_type": "text",
        "id": "1MExDafv8WhG"
      },
      "source": [
        "This is an implementation of **(Batch) Gradient Descent** with tensors.\n",
        "\n",
        "Note that in the main loop, the functions loss_t and gradient_t are always called with the same inputs: they can easily be incorporated into the loop (we'll do that below)."
      ]
    },
    {
      "cell_type": "code",
      "metadata": {
        "colab_type": "code",
        "id": "5tWn-6PC8WhH",
        "colab": {}
      },
      "source": [
        "w_init_t = torch.from_numpy(w_init).type(dtype)\n",
        "b_init_t = torch.from_numpy(b_init).type(dtype)\n",
        "\n",
        "w_t = w_init_t.clone()\n",
        "w_t.unsqueeze_(1)\n",
        "b_t = b_init_t.clone()\n",
        "b_t.unsqueeze_(1)\n",
        "print(\"initial values of the parameters:\", w_t, b_t )"
      ],
      "execution_count": null,
      "outputs": []
    },
    {
      "cell_type": "code",
      "metadata": {
        "colab_type": "code",
        "id": "7ovfMuTVB_jr",
        "colab": {}
      },
      "source": [
        "# our model forward pass\n",
        "def forward_t(x):\n",
        "    return x.mm(w_t)+b_t\n",
        "\n",
        "# Loss function\n",
        "def loss_t(x, y):\n",
        "    y_pred = forward_t(x)\n",
        "    return (y_pred - y).pow(2).sum()\n",
        "\n",
        "# compute gradient\n",
        "def gradient_t(x, y):  # d_loss/d_w, d_loss/d_c\n",
        "    return 2*torch.mm(torch.t(x),x.mm(w_t)+b_t - y), 2 * (x.mm(w_t)+b_t - y).sum()\n",
        "\n",
        "learning_rate = 1e-2\n",
        "for epoch in range(10):\n",
        "    l_t = loss_t(x_t,y_t)\n",
        "    grad_w, grad_b = gradient_t(x_t,y_t)\n",
        "    w_t = w_t-learning_rate*grad_w\n",
        "    b_t = b_t-learning_rate*grad_b\n",
        "    print(\"progress:\", \"epoch:\", epoch, \"loss\",l_t)\n",
        "\n",
        "# After training\n",
        "print(\"estimation of the parameters:\", w_t, b_t )"
      ],
      "execution_count": null,
      "outputs": []
    },
    {
      "cell_type": "markdown",
      "metadata": {
        "colab_type": "text",
        "id": "bTrqi-ux8WhJ"
      },
      "source": [
        "## Linear regression with Autograd"
      ]
    },
    {
      "cell_type": "code",
      "metadata": {
        "colab_type": "code",
        "id": "LTH6VOMz8WhJ",
        "colab": {}
      },
      "source": [
        "# Setting requires_grad=True indicates that we want to compute gradients with\n",
        "# respect to these Tensors during the backward pass.\n",
        "w_v = w_init_t.clone().unsqueeze(1)\n",
        "w_v.requires_grad_(True)\n",
        "b_v = b_init_t.clone().unsqueeze(1)\n",
        "b_v.requires_grad_(True)\n",
        "print(\"initial values of the parameters:\", w_v.data, b_v.data )"
      ],
      "execution_count": null,
      "outputs": []
    },
    {
      "cell_type": "markdown",
      "metadata": {
        "colab_type": "text",
        "id": "oHgm3N8Y8WhK"
      },
      "source": [
        "An implementation of **(Batch) Gradient Descent** without computing explicitly the gradient and using autograd instead."
      ]
    },
    {
      "cell_type": "code",
      "metadata": {
        "colab_type": "code",
        "id": "B4sdOF0e8WhL",
        "colab": {}
      },
      "source": [
        "for epoch in range(10):\n",
        "    y_pred = x_t.mm(w_v)+b_v\n",
        "    loss = (y_pred - y_t).pow(2).sum()\n",
        "    \n",
        "    # Use autograd to compute the backward pass. This call will compute the\n",
        "    # gradient of loss with respect to all Variables with requires_grad=True.\n",
        "    # After this call w.grad and b.grad will be tensors holding the gradient\n",
        "    # of the loss with respect to w and b respectively.\n",
        "    loss.backward()\n",
        "    \n",
        "    # Update weights using gradient descent. For this step we just want to mutate\n",
        "    # the values of w_v and b_v in-place; we don't want to build up a computational\n",
        "    # graph for the update steps, so we use the torch.no_grad() context manager\n",
        "    # to prevent PyTorch from building a computational graph for the updates\n",
        "    with torch.no_grad():\n",
        "        w_v -= learning_rate * w_v.grad\n",
        "        b_v -= learning_rate * b_v.grad\n",
        "    \n",
        "    # Manually zero the gradients after updating weights\n",
        "    # otherwise gradients will be acumulated after each .backward()\n",
        "    w_v.grad.zero_()\n",
        "    b_v.grad.zero_()\n",
        "    \n",
        "    print(\"progress:\", \"epoch:\", epoch, \"loss\",loss.data.item())\n",
        "\n",
        "# After training\n",
        "print(\"estimation of the parameters:\", w_v.data, b_v.data.t() )"
      ],
      "execution_count": null,
      "outputs": []
    },
    {
      "cell_type": "markdown",
      "metadata": {
        "colab_type": "text",
        "id": "W720TY4R8WhN"
      },
      "source": [
        "## Linear regression with neural network"
      ]
    },
    {
      "cell_type": "markdown",
      "metadata": {
        "colab_type": "text",
        "id": "6VgMVkn48WhN"
      },
      "source": [
        "An implementation of **(Batch) Gradient Descent** using the nn package. Here we have a super simple model with only one layer and no activation function!"
      ]
    },
    {
      "cell_type": "code",
      "metadata": {
        "colab_type": "code",
        "id": "plEHj42d8WhO",
        "colab": {}
      },
      "source": [
        "# Use the nn package to define our model as a sequence of layers. nn.Sequential\n",
        "# is a Module which contains other Modules, and applies them in sequence to\n",
        "# produce its output. Each Linear Module computes output from input using a\n",
        "# linear function, and holds internal Variables for its weight and bias.\n",
        "model = torch.nn.Sequential(\n",
        "    torch.nn.Linear(2, 1),\n",
        ")\n",
        "\n",
        "for m in model.children():\n",
        "    m.weight.data = w_init_t.clone().unsqueeze(0)\n",
        "    m.bias.data = b_init_t.clone()\n",
        "\n",
        "# The nn package also contains definitions of popular loss functions; in this\n",
        "# case we will use Mean Squared Error (MSE) as our loss function.\n",
        "loss_fn = torch.nn.MSELoss(reduction='sum')\n",
        "\n",
        "# switch to train mode\n",
        "model.train()\n",
        "\n",
        "for epoch in range(10):\n",
        "    # Forward pass: compute predicted y by passing x to the model. Module objects\n",
        "    # override the __call__ operator so you can call them like functions. When\n",
        "    # doing so you pass a Variable of input data to the Module and it produces\n",
        "    # a Variable of output data.\n",
        "    y_pred = model(x_t)\n",
        "  \n",
        "    # Note this operation is equivalent to: pred = model.forward(x_v)\n",
        "\n",
        "    # Compute and print loss. We pass Variables containing the predicted and true\n",
        "    # values of y, and the loss function returns a Variable containing the\n",
        "    # loss.\n",
        "    loss = loss_fn(y_pred, y_t)\n",
        "\n",
        "    # Zero the gradients before running the backward pass.\n",
        "    model.zero_grad()\n",
        "\n",
        "    # Backward pass: compute gradient of the loss with respect to all the learnable\n",
        "    # parameters of the model. Internally, the parameters of each Module are stored\n",
        "    # in Variables with requires_grad=True, so this call will compute gradients for\n",
        "    # all learnable parameters in the model.\n",
        "    loss.backward()\n",
        "\n",
        "    # Update the weights using gradient descent. Each parameter is a Tensor, so\n",
        "    # we can access its data and gradients like we did before.\n",
        "    with torch.no_grad():\n",
        "        for param in model.parameters():\n",
        "            param.data -= learning_rate * param.grad\n",
        "        \n",
        "    print(\"progress:\", \"epoch:\", epoch, \"loss\",loss.data.item())\n",
        "\n",
        "# After training\n",
        "print(\"estimation of the parameters:\")\n",
        "for param in model.parameters():\n",
        "    print(param)"
      ],
      "execution_count": null,
      "outputs": []
    },
    {
      "cell_type": "markdown",
      "metadata": {
        "colab_type": "text",
        "id": "gus-YF9p8WhP"
      },
      "source": [
        "Last step, we use directly the optim package to update the weights and bias."
      ]
    },
    {
      "cell_type": "code",
      "metadata": {
        "colab_type": "code",
        "id": "2VbF5gYV8WhP",
        "colab": {}
      },
      "source": [
        "model = torch.nn.Sequential(\n",
        "    torch.nn.Linear(2, 1),\n",
        ")\n",
        "\n",
        "for m in model.children():\n",
        "    m.weight.data = w_init_t.clone().unsqueeze(0)\n",
        "    m.bias.data = b_init_t.clone()\n",
        "\n",
        "loss_fn = torch.nn.MSELoss(reduction='sum')\n",
        "\n",
        "model.train()\n",
        "\n",
        "optimizer = torch.optim.SGD(model.parameters(), lr=learning_rate)\n",
        "\n",
        "\n",
        "for epoch in range(10):\n",
        "    y_pred = model(x_t)\n",
        "    loss = loss_fn(y_pred, y_t)\n",
        "    print(\"progress:\", \"epoch:\", epoch, \"loss\",loss.item())\n",
        "    # Zero gradients, perform a backward pass, and update the weights.\n",
        "    optimizer.zero_grad()\n",
        "    loss.backward()\n",
        "    optimizer.step()\n",
        "    \n",
        "    \n",
        "# After training\n",
        "print(\"estimation of the parameters:\")\n",
        "for param in model.parameters():\n",
        "    print(param)"
      ],
      "execution_count": null,
      "outputs": []
    },
    {
      "cell_type": "markdown",
      "metadata": {
        "id": "vFxayCILB_j2",
        "colab_type": "text"
      },
      "source": [
        "## Remark\n",
        "\n",
        "This problem can be solved in 3 lines of code!"
      ]
    },
    {
      "cell_type": "code",
      "metadata": {
        "id": "6q9sz3M8B_j2",
        "colab_type": "code",
        "colab": {}
      },
      "source": [
        "xb_t = torch.cat((x_t,torch.ones(30).unsqueeze(1)),1)\n",
        "sol, _ =torch.lstsq(y_t,xb_t)\n",
        "sol[:3]"
      ],
      "execution_count": null,
      "outputs": []
    },
    {
      "cell_type": "markdown",
      "metadata": {
        "colab_type": "text",
        "id": "IY_I9v3o8WhQ"
      },
      "source": [
        "## Exercise: Play with the code"
      ]
    },
    {
      "cell_type": "markdown",
      "metadata": {
        "colab_type": "text",
        "id": "It_tRuXs8WhQ"
      },
      "source": [
        "Change the number of samples from 30 to 300. What happens? How to correct it?"
      ]
    },
    {
      "cell_type": "code",
      "metadata": {
        "colab_type": "code",
        "id": "JRk1zgSv8WhR",
        "colab": {}
      },
      "source": [
        "x = random((300,2))\n",
        "y = np.dot(x, [2., -3.]) + 1.\n",
        "x_t = torch.from_numpy(x).type(dtype)\n",
        "y_t = torch.from_numpy(y).type(dtype).unsqueeze(1)"
      ],
      "execution_count": null,
      "outputs": []
    },
    {
      "cell_type": "code",
      "metadata": {
        "colab_type": "code",
        "id": "a-xOCI6z8WhS",
        "colab": {}
      },
      "source": [
        "model = torch.nn.Sequential(\n",
        "    torch.nn.Linear(2, 1),\n",
        ")\n",
        "\n",
        "for m in model.children():\n",
        "    m.weight.data = w_init_t.clone().unsqueeze(0)\n",
        "    m.bias.data = b_init_t.clone()\n",
        "\n",
        "loss_fn = torch.nn.MSELoss(reduction = 'sum')\n",
        "\n",
        "model.train()\n",
        "\n",
        "optimizer = torch.optim.SGD(model.parameters(), lr=learning_rate)\n",
        "\n",
        "\n",
        "for epoch in range(10):\n",
        "    y_pred = model(x_t)\n",
        "    loss = loss_fn(y_pred, y_t)\n",
        "    print(\"progress:\", \"epoch:\", epoch, \"loss\",loss.item())\n",
        "    # Zero gradients, perform a backward pass, and update the weights.\n",
        "    optimizer.zero_grad()\n",
        "    loss.backward()\n",
        "    optimizer.step()\n",
        "    \n",
        "    \n",
        "# After training\n",
        "print(\"estimation of the parameters:\")\n",
        "for param in model.parameters():\n",
        "    print(param)"
      ],
      "execution_count": null,
      "outputs": []
    },
    {
      "cell_type": "code",
      "metadata": {
        "id": "CAiS-TfqDOMU",
        "colab_type": "code",
        "colab": {}
      },
      "source": [
        ""
      ],
      "execution_count": null,
      "outputs": []
    }
  ]
}